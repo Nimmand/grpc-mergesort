{
 "cells": [
  {
   "cell_type": "markdown",
   "metadata": {},
   "source": [
    "# gRPC - Notebook\n",
    "Ein kleines Beispiel, welches die Verwendung von gRPC demonstriert"
   ]
  },
  {
   "cell_type": "markdown",
   "metadata": {},
   "source": [
    "## Bibliotheken installieren"
   ]
  },
  {
   "cell_type": "code",
   "execution_count": null,
   "metadata": {},
   "outputs": [],
   "source": [
    "!pip install grpcio\n",
    "!pip install grpcio-tools"
   ]
  },
  {
   "cell_type": "markdown",
   "metadata": {},
   "source": [
    "## gRPC Schnittstellen erzeugen"
   ]
  },
  {
   "cell_type": "code",
   "execution_count": null,
   "metadata": {},
   "outputs": [],
   "source": [
    "!python -m grpc_tools.protoc -I../RNGesus/Protos --python_out=. --grpc_python_out=. ../RNGesus/Protos/rng.proto\n",
    "!python -m grpc_tools.protoc -I../MergeSorter --python_out=. --grpc_python_out=. ../MergeSorter/merge.proto"
   ]
  },
  {
   "cell_type": "markdown",
   "metadata": {},
   "source": [
    "## Bibliotheken einbinden"
   ]
  },
  {
   "cell_type": "code",
   "execution_count": null,
   "metadata": {},
   "outputs": [],
   "source": [
    "import grpc\n",
    "import rng_pb2\n",
    "import rng_pb2_grpc\n",
    "import merge_pb2\n",
    "import merge_pb2_grpc"
   ]
  },
  {
   "cell_type": "markdown",
   "metadata": {},
   "source": [
    "## RNG Stub initialisieren"
   ]
  },
  {
   "cell_type": "code",
   "execution_count": null,
   "metadata": {},
   "outputs": [],
   "source": [
    "rngchannel = grpc.insecure_channel('localhost:5001')\n",
    "rngstub = rng_pb2_grpc.RngesusStub(rngchannel)"
   ]
  },
  {
   "cell_type": "markdown",
   "metadata": {},
   "source": [
    "## RNG Server anfragen"
   ]
  },
  {
   "cell_type": "code",
   "execution_count": null,
   "metadata": {},
   "outputs": [],
   "source": [
    "rngresponse = rngstub.GenerateNumbers(rng_pb2.RngRequest(rngCount=100, rngMax=30))\n",
    "print(\"rng: \" + str(rngresponse.numbers))"
   ]
  },
  {
   "cell_type": "markdown",
   "metadata": {},
   "source": [
    "## Mergesort Stub initialisieren"
   ]
  },
  {
   "cell_type": "code",
   "execution_count": null,
   "metadata": {},
   "outputs": [],
   "source": [
    "mergechannel = grpc.insecure_channel('localhost:5002')\n",
    "mergestub = merge_pb2_grpc.MergesorterStub(mergechannel)"
   ]
  },
  {
   "cell_type": "markdown",
   "metadata": {},
   "source": [
    "## Mergesort Server anfragen"
   ]
  },
  {
   "cell_type": "code",
   "execution_count": null,
   "metadata": {},
   "outputs": [],
   "source": [
    "mergeresponse = mergestub.Merge(merge_pb2.MergeRequest(numbers = rngresponse.numbers))\n",
    "print(\"merge: \" + str(mergeresponse.numbers))"
   ]
  }
 ],
 "metadata": {
  "language_info": {
   "codemirror_mode": {
    "name": "ipython",
    "version": 3
   },
   "file_extension": ".py",
   "mimetype": "text/x-python",
   "name": "python",
   "nbconvert_exporter": "python",
   "pygments_lexer": "ipython3",
   "version": "3.8.5-final"
  },
  "orig_nbformat": 2,
  "kernelspec": {
   "name": "python38564bitb12337e1b99a4c28a09d059bf7de471b",
   "display_name": "Python 3.8.5 64-bit"
  }
 },
 "nbformat": 4,
 "nbformat_minor": 2
}