{
 "cells": [
  {
   "cell_type": "code",
   "execution_count": 1,
   "metadata": {},
   "outputs": [
    {
     "output_type": "stream",
     "name": "stdout",
     "text": "Defaulting to user installation because normal site-packages is not writeable\nRequirement already satisfied: grpcio in /home/nimmand/.local/lib/python3.8/site-packages (1.32.0)\nRequirement already satisfied: six>=1.5.2 in /usr/lib/python3.8/site-packages (from grpcio) (1.15.0)\nDefaulting to user installation because normal site-packages is not writeable\nRequirement already satisfied: grpcio-tools in /home/nimmand/.local/lib/python3.8/site-packages (1.32.0)\nRequirement already satisfied: grpcio>=1.32.0 in /home/nimmand/.local/lib/python3.8/site-packages (from grpcio-tools) (1.32.0)\nRequirement already satisfied: protobuf<4.0dev,>=3.5.0.post1 in /home/nimmand/.local/lib/python3.8/site-packages (from grpcio-tools) (3.13.0)\nRequirement already satisfied: six>=1.5.2 in /usr/lib/python3.8/site-packages (from grpcio>=1.32.0->grpcio-tools) (1.15.0)\nRequirement already satisfied: setuptools in /usr/lib/python3.8/site-packages (from protobuf<4.0dev,>=3.5.0.post1->grpcio-tools) (50.3.0)\n"
    }
   ],
   "source": [
    "!pip install grpcio\n",
    "!pip install grpcio-tools"
   ]
  },
  {
   "cell_type": "code",
   "execution_count": 2,
   "metadata": {},
   "outputs": [],
   "source": [
    "!python -m grpc_tools.protoc -I../RNGesus/Protos --python_out=. --grpc_python_out=. ../RNGesus/Protos/rng.proto"
   ]
  },
  {
   "cell_type": "code",
   "execution_count": 2,
   "metadata": {},
   "outputs": [],
   "source": [
    "import grpc\n",
    "import rng_pb2\n",
    "import rng_pb2_grpc"
   ]
  },
  {
   "cell_type": "code",
   "execution_count": 4,
   "metadata": {},
   "outputs": [],
   "source": [
    "channel = grpc.insecure_channel('localhost:5001')\n",
    "stub = rng_pb2_grpc.RngesusStub(channel)"
   ]
  },
  {
   "cell_type": "code",
   "execution_count": 8,
   "metadata": {},
   "outputs": [
    {
     "output_type": "stream",
     "name": "stdout",
     "text": "Greeter client received: [7, 22, 24, 9, 4, 11, 13, 8, 11, 19, 10, 13, 24, 26, 17, 11, 24, 16, 16, 7, 29, 24, 14, 6, 13, 21, 4, 11, 24, 16, 3, 1, 16, 16, 21, 22, 18, 15, 3, 13, 12, 10, 2, 8, 15, 28, 3, 5, 13, 21, 26, 12, 27, 12, 5, 13, 8, 19, 25, 12, 8, 3, 14, 24, 17, 10, 26, 8, 5, 24, 23, 10, 13, 4, 25, 20, 22, 7, 21, 15, 18, 28, 28, 3, 19, 20, 4, 5, 12, 9, 15, 29, 20, 21, 5, 10, 26, 7, 21, 6]\n"
    }
   ],
   "source": [
    "response = stub.GenerateNumbers(rng_pb2.RngRequest(rngCount=100, rngMax=30))\n",
    "print(\"Greeter client received: \" + str(response.numbers))"
   ]
  },
  {
   "cell_type": "code",
   "execution_count": null,
   "metadata": {},
   "outputs": [],
   "source": []
  }
 ],
 "metadata": {
  "language_info": {
   "codemirror_mode": {
    "name": "ipython",
    "version": 3
   },
   "file_extension": ".py",
   "mimetype": "text/x-python",
   "name": "python",
   "nbconvert_exporter": "python",
   "pygments_lexer": "ipython3",
   "version": "3.8.5-final"
  },
  "orig_nbformat": 2,
  "kernelspec": {
   "name": "python38564bitb12337e1b99a4c28a09d059bf7de471b",
   "display_name": "Python 3.8.5 64-bit"
  }
 },
 "nbformat": 4,
 "nbformat_minor": 2
}