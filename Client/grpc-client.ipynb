{
 "cells": [
  {
   "cell_type": "code",
   "execution_count": 1,
   "metadata": {},
   "outputs": [
    {
     "output_type": "stream",
     "name": "stdout",
     "text": "Defaulting to user installation because normal site-packages is not writeable\nRequirement already satisfied: grpcio in /home/nimmand/.local/lib/python3.8/site-packages (1.32.0)\nRequirement already satisfied: six>=1.5.2 in /usr/lib/python3.8/site-packages (from grpcio) (1.15.0)\nDefaulting to user installation because normal site-packages is not writeable\nRequirement already satisfied: grpcio-tools in /home/nimmand/.local/lib/python3.8/site-packages (1.32.0)\nRequirement already satisfied: protobuf<4.0dev,>=3.5.0.post1 in /home/nimmand/.local/lib/python3.8/site-packages (from grpcio-tools) (3.13.0)\nRequirement already satisfied: grpcio>=1.32.0 in /home/nimmand/.local/lib/python3.8/site-packages (from grpcio-tools) (1.32.0)\nRequirement already satisfied: six>=1.9 in /usr/lib/python3.8/site-packages (from protobuf<4.0dev,>=3.5.0.post1->grpcio-tools) (1.15.0)\nRequirement already satisfied: setuptools in /usr/lib/python3.8/site-packages (from protobuf<4.0dev,>=3.5.0.post1->grpcio-tools) (50.3.0)\n"
    }
   ],
   "source": [
    "!pip install grpcio\n",
    "!pip install grpcio-tools"
   ]
  },
  {
   "cell_type": "code",
   "execution_count": 2,
   "metadata": {},
   "outputs": [],
   "source": [
    "!python -m grpc_tools.protoc -I../RNGesus/Protos --python_out=. --grpc_python_out=. ../RNGesus/Protos/rng.proto\n",
    "!python -m grpc_tools.protoc -I../MergeSorter --python_out=. --grpc_python_out=. ../MergeSorter/merge.proto"
   ]
  },
  {
   "cell_type": "code",
   "execution_count": 3,
   "metadata": {},
   "outputs": [],
   "source": [
    "import grpc\n",
    "import rng_pb2\n",
    "import rng_pb2_grpc\n",
    "import merge_pb2\n",
    "import merge_pb2_grpc"
   ]
  },
  {
   "cell_type": "code",
   "execution_count": 4,
   "metadata": {},
   "outputs": [],
   "source": [
    "rngchannel = grpc.insecure_channel('localhost:5001')\n",
    "rngstub = rng_pb2_grpc.RngesusStub(rngchannel)"
   ]
  },
  {
   "cell_type": "code",
   "execution_count": 5,
   "metadata": {},
   "outputs": [
    {
     "output_type": "stream",
     "name": "stdout",
     "text": "rng: [18, 3, 11, 1, 16, 2, 18, 5, 17, 2, 24, 26, 9, 5, 8, 6, 11, 14, 20, 1, 1, 18, 23, 24, 16, 12, 19, 5, 16, 2, 2, 26, 21, 25, 24, 9, 13, 29, 12, 3, 1, 4, 24, 25, 29, 10, 5, 25, 15, 14, 27, 10, 8, 9, 20, 1, 10, 17, 14, 5, 13, 13, 18, 15, 1, 28, 6, 13, 11, 29, 23, 12, 2, 17, 1, 26, 23, 27, 24, 7, 7, 23, 20, 2, 4, 21, 19, 12, 6, 24, 28, 25, 15, 8, 20, 17, 16, 10, 25, 2]\n"
    }
   ],
   "source": [
    "rngresponse = rngstub.GenerateNumbers(rng_pb2.RngRequest(rngCount=100, rngMax=30))\n",
    "print(\"rng: \" + str(rngresponse.numbers))"
   ]
  },
  {
   "cell_type": "code",
   "execution_count": 6,
   "metadata": {},
   "outputs": [],
   "source": [
    "mergechannel = grpc.insecure_channel('localhost:5002')\n",
    "mergestub = merge_pb2_grpc.MergesorterStub(mergechannel)"
   ]
  },
  {
   "cell_type": "code",
   "execution_count": 8,
   "metadata": {},
   "outputs": [
    {
     "output_type": "stream",
     "name": "stdout",
     "text": "merge: [1, 1, 1, 1, 1, 1, 1, 2, 2, 2, 2, 2, 2, 2, 3, 3, 4, 4, 5, 5, 5, 5, 5, 6, 6, 6, 7, 7, 8, 8, 8, 9, 9, 9, 10, 10, 10, 10, 11, 11, 11, 12, 12, 12, 12, 13, 13, 13, 13, 14, 14, 14, 15, 15, 15, 16, 16, 16, 16, 17, 17, 17, 17, 18, 18, 18, 18, 19, 19, 20, 20, 20, 20, 21, 21, 23, 23, 23, 23, 24, 24, 24, 24, 24, 24, 25, 25, 25, 25, 25, 26, 26, 26, 27, 27, 28, 28, 29, 29, 29]\n"
    }
   ],
   "source": [
    "mergeresponse = mergestub.Merge(merge_pb2.MergeRequest(numbers = rngresponse.numbers))\n",
    "print(\"merge: \" + str(mergeresponse.numbers))"
   ]
  }
 ],
 "metadata": {
  "language_info": {
   "codemirror_mode": {
    "name": "ipython",
    "version": 3
   },
   "file_extension": ".py",
   "mimetype": "text/x-python",
   "name": "python",
   "nbconvert_exporter": "python",
   "pygments_lexer": "ipython3",
   "version": "3.8.5-final"
  },
  "orig_nbformat": 2,
  "kernelspec": {
   "name": "python38564bitb12337e1b99a4c28a09d059bf7de471b",
   "display_name": "Python 3.8.5 64-bit"
  }
 },
 "nbformat": 4,
 "nbformat_minor": 2
}